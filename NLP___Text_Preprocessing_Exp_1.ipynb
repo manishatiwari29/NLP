{
  "nbformat": 4,
  "nbformat_minor": 0,
  "metadata": {
    "colab": {
      "provenance": []
    },
    "kernelspec": {
      "name": "python3",
      "display_name": "Python 3"
    },
    "language_info": {
      "name": "python"
    }
  },
  "cells": [
    {
      "cell_type": "markdown",
      "source": [
        "Text pre-processing level-1 tokenization, stemming, lemmatization,stop word removal and PoS tagging using NLTK\n",
        "\n",
        "References:\n",
        "\n"
      ],
      "metadata": {
        "id": "IceWIHLWWIeI"
      }
    },
    {
      "cell_type": "markdown",
      "source": [
        "Tokenization"
      ],
      "metadata": {
        "id": "Eke1KTczWQqj"
      }
    },
    {
      "cell_type": "code",
      "source": [
        "### Tokenization using nltk"
      ],
      "metadata": {
        "id": "rIKNk7c8WTxB"
      },
      "execution_count": 2,
      "outputs": []
    },
    {
      "cell_type": "code",
      "source": [
        "import nltk\n",
        "nltk.download('punkt_tab')# Download the Punkt tokenizer models required for sentence tokenization\n",
        "from nltk import sent_tokenize, word_tokenize"
      ],
      "metadata": {
        "colab": {
          "base_uri": "https://localhost:8080/"
        },
        "id": "CuL86SJVWUkw",
        "outputId": "ec696a8a-f935-47f2-9fed-bf02dbc7dabc"
      },
      "execution_count": 3,
      "outputs": [
        {
          "output_type": "stream",
          "name": "stderr",
          "text": [
            "[nltk_data] Downloading package punkt_tab to /root/nltk_data...\n",
            "[nltk_data]   Package punkt_tab is already up-to-date!\n"
          ]
        }
      ]
    },
    {
      "cell_type": "code",
      "source": [
        "para= \"\"\"India is the largest democratic country.\n",
        "It is a big country divided into 29 states and 7 union territories.These states and union territories have been created so that the government can run the country more easily. India also has many different kinds of physical features in different parts of the country\n",
        "that are spread over its states and union territories.India is a very diverse country as well, which means that the people around the country are different in many ways. Even though India is such a diverse place, it is united as one country.\"\"\"\n"
      ],
      "metadata": {
        "id": "scyviyubWX0O"
      },
      "execution_count": 4,
      "outputs": []
    },
    {
      "cell_type": "code",
      "source": [
        "#Sentence tokenize\n",
        "sentences= sent_tokenize(para)\n",
        "print(sentences)"
      ],
      "metadata": {
        "colab": {
          "base_uri": "https://localhost:8080/"
        },
        "id": "eGaPaNXHWbLk",
        "outputId": "7ed7ab5b-980f-49a2-8e68-4612f2062cac"
      },
      "execution_count": 5,
      "outputs": [
        {
          "output_type": "stream",
          "name": "stdout",
          "text": [
            "['India is the largest democratic country.', 'It is a big country divided into 29 states and 7 union territories.These states and union territories have been created so that the government can run the country more easily.', 'India also has many different kinds of physical features in different parts of the country\\nthat are spread over its states and union territories.India is a very diverse country as well, which means that the people around the country are different in many ways.', 'Even though India is such a diverse place, it is united as one country.']\n"
          ]
        }
      ]
    },
    {
      "cell_type": "code",
      "source": [
        "#word Tokenize\n",
        "words= word_tokenize(sentences[0])\n",
        "print(words)"
      ],
      "metadata": {
        "colab": {
          "base_uri": "https://localhost:8080/"
        },
        "id": "ZVeH-tBnWs1G",
        "outputId": "63ab8a95-2dde-4676-b20c-5ec272a51686"
      },
      "execution_count": 6,
      "outputs": [
        {
          "output_type": "stream",
          "name": "stdout",
          "text": [
            "['India', 'is', 'the', 'largest', 'democratic', 'country', '.']\n"
          ]
        }
      ]
    },
    {
      "cell_type": "markdown",
      "source": [
        "# Tokenize each sentence into words and add them to a single list using extend()\n",
        "# 'extend()' is used instead of 'append()' to flatten the list by adding individual words,\n",
        "# not adding each list of tokens as a nested list"
      ],
      "metadata": {
        "id": "TEN8RM0uXNSI"
      }
    },
    {
      "cell_type": "code",
      "source": [
        "#Using extend\n",
        "words_token=[]\n",
        "for sent in sentences:\n",
        "    words_token.extend(word_tokenize(sent))\n",
        "print(words_token)"
      ],
      "metadata": {
        "colab": {
          "base_uri": "https://localhost:8080/"
        },
        "id": "U_rbPw26Wx0X",
        "outputId": "7af74668-ff44-4e46-9611-07e678424d7e"
      },
      "execution_count": 7,
      "outputs": [
        {
          "output_type": "stream",
          "name": "stdout",
          "text": [
            "['India', 'is', 'the', 'largest', 'democratic', 'country', '.', 'It', 'is', 'a', 'big', 'country', 'divided', 'into', '29', 'states', 'and', '7', 'union', 'territories.These', 'states', 'and', 'union', 'territories', 'have', 'been', 'created', 'so', 'that', 'the', 'government', 'can', 'run', 'the', 'country', 'more', 'easily', '.', 'India', 'also', 'has', 'many', 'different', 'kinds', 'of', 'physical', 'features', 'in', 'different', 'parts', 'of', 'the', 'country', 'that', 'are', 'spread', 'over', 'its', 'states', 'and', 'union', 'territories.India', 'is', 'a', 'very', 'diverse', 'country', 'as', 'well', ',', 'which', 'means', 'that', 'the', 'people', 'around', 'the', 'country', 'are', 'different', 'in', 'many', 'ways', '.', 'Even', 'though', 'India', 'is', 'such', 'a', 'diverse', 'place', ',', 'it', 'is', 'united', 'as', 'one', 'country', '.']\n"
          ]
        }
      ]
    },
    {
      "cell_type": "markdown",
      "source": [
        "# Tokenize each sentence into words and add them to the list using append()\n",
        "# 'append()' adds the entire list of word tokens as a single element,\n",
        "# so the result will be a list of lists (each sublist contains tokens of one sentence)"
      ],
      "metadata": {
        "id": "Qt06egGfXXWb"
      }
    },
    {
      "cell_type": "code",
      "source": [
        "#Useing append\n",
        "words_token=[]\n",
        "for sent in sentences:\n",
        "    words_token.append(word_tokenize(sent))\n",
        "print(words_token)"
      ],
      "metadata": {
        "colab": {
          "base_uri": "https://localhost:8080/"
        },
        "id": "W_3SSlw3Xb9r",
        "outputId": "808670ac-b66a-4fb7-aade-bc22933dcc47"
      },
      "execution_count": 8,
      "outputs": [
        {
          "output_type": "stream",
          "name": "stdout",
          "text": [
            "[['India', 'is', 'the', 'largest', 'democratic', 'country', '.'], ['It', 'is', 'a', 'big', 'country', 'divided', 'into', '29', 'states', 'and', '7', 'union', 'territories.These', 'states', 'and', 'union', 'territories', 'have', 'been', 'created', 'so', 'that', 'the', 'government', 'can', 'run', 'the', 'country', 'more', 'easily', '.'], ['India', 'also', 'has', 'many', 'different', 'kinds', 'of', 'physical', 'features', 'in', 'different', 'parts', 'of', 'the', 'country', 'that', 'are', 'spread', 'over', 'its', 'states', 'and', 'union', 'territories.India', 'is', 'a', 'very', 'diverse', 'country', 'as', 'well', ',', 'which', 'means', 'that', 'the', 'people', 'around', 'the', 'country', 'are', 'different', 'in', 'many', 'ways', '.'], ['Even', 'though', 'India', 'is', 'such', 'a', 'diverse', 'place', ',', 'it', 'is', 'united', 'as', 'one', 'country', '.']]\n"
          ]
        }
      ]
    },
    {
      "cell_type": "code",
      "source": [
        "print(word_tokenize(para))"
      ],
      "metadata": {
        "colab": {
          "base_uri": "https://localhost:8080/"
        },
        "id": "yO36HJ9mXnQx",
        "outputId": "58166b0d-a6f1-411f-a4e7-ad6040fef989"
      },
      "execution_count": 9,
      "outputs": [
        {
          "output_type": "stream",
          "name": "stdout",
          "text": [
            "['India', 'is', 'the', 'largest', 'democratic', 'country', '.', 'It', 'is', 'a', 'big', 'country', 'divided', 'into', '29', 'states', 'and', '7', 'union', 'territories.These', 'states', 'and', 'union', 'territories', 'have', 'been', 'created', 'so', 'that', 'the', 'government', 'can', 'run', 'the', 'country', 'more', 'easily', '.', 'India', 'also', 'has', 'many', 'different', 'kinds', 'of', 'physical', 'features', 'in', 'different', 'parts', 'of', 'the', 'country', 'that', 'are', 'spread', 'over', 'its', 'states', 'and', 'union', 'territories.India', 'is', 'a', 'very', 'diverse', 'country', 'as', 'well', ',', 'which', 'means', 'that', 'the', 'people', 'around', 'the', 'country', 'are', 'different', 'in', 'many', 'ways', '.', 'Even', 'though', 'India', 'is', 'such', 'a', 'diverse', 'place', ',', 'it', 'is', 'united', 'as', 'one', 'country', '.']\n"
          ]
        }
      ]
    },
    {
      "cell_type": "markdown",
      "source": [
        "Tokenization using SpaCy"
      ],
      "metadata": {
        "id": "IhsHZmzuXruo"
      }
    },
    {
      "cell_type": "code",
      "source": [
        "import spacy"
      ],
      "metadata": {
        "id": "izxVkYMQXsll"
      },
      "execution_count": 10,
      "outputs": []
    },
    {
      "cell_type": "markdown",
      "source": [],
      "metadata": {
        "id": "Gzb9dN2oX1rz"
      }
    },
    {
      "cell_type": "code",
      "source": [
        "# Load spaCy's small English model (includes tokenization, POS tagging, etc.)\n",
        "sp = spacy.load('en_core_web_sm')\n",
        "# Apply the NLP pipeline on the input paragraph 'para'\n",
        "sentence = sp(para)\n",
        "# Print the processed spaCy Doc object (this will display the original text)\n",
        "print(sentence)"
      ],
      "metadata": {
        "colab": {
          "base_uri": "https://localhost:8080/"
        },
        "id": "Hi3aGb-NXvBh",
        "outputId": "a97e2675-5135-425f-8f55-acf73f0596c0"
      },
      "execution_count": 11,
      "outputs": [
        {
          "output_type": "stream",
          "name": "stdout",
          "text": [
            "India is the largest democratic country.\n",
            "It is a big country divided into 29 states and 7 union territories.These states and union territories have been created so that the government can run the country more easily. India also has many different kinds of physical features in different parts of the country\n",
            "that are spread over its states and union territories.India is a very diverse country as well, which means that the people around the country are different in many ways. Even though India is such a diverse place, it is united as one country.\n"
          ]
        }
      ]
    },
    {
      "cell_type": "code",
      "source": [
        "word_spacy_tokenize= []\n",
        "\n",
        "# Iterate over the spaCy Doc object to extract tokens\n",
        "for word in sentence:\n",
        "   word_spacy_tokenize.append(word)\n",
        "word_spacy_tokenize"
      ],
      "metadata": {
        "colab": {
          "base_uri": "https://localhost:8080/"
        },
        "id": "M_C4AHwZdcdD",
        "outputId": "0f5af3e6-8964-46b9-8544-c8d511c88ad8"
      },
      "execution_count": 12,
      "outputs": [
        {
          "output_type": "execute_result",
          "data": {
            "text/plain": [
              "[India,\n",
              " is,\n",
              " the,\n",
              " largest,\n",
              " democratic,\n",
              " country,\n",
              " .,\n",
              " ,\n",
              " It,\n",
              " is,\n",
              " a,\n",
              " big,\n",
              " country,\n",
              " divided,\n",
              " into,\n",
              " 29,\n",
              " states,\n",
              " and,\n",
              " 7,\n",
              " union,\n",
              " territories,\n",
              " .,\n",
              " These,\n",
              " states,\n",
              " and,\n",
              " union,\n",
              " territories,\n",
              " have,\n",
              " been,\n",
              " created,\n",
              " so,\n",
              " that,\n",
              " the,\n",
              " government,\n",
              " can,\n",
              " run,\n",
              " the,\n",
              " country,\n",
              " more,\n",
              " easily,\n",
              " .,\n",
              " India,\n",
              " also,\n",
              " has,\n",
              " many,\n",
              " different,\n",
              " kinds,\n",
              " of,\n",
              " physical,\n",
              " features,\n",
              " in,\n",
              " different,\n",
              " parts,\n",
              " of,\n",
              " the,\n",
              " country,\n",
              " ,\n",
              " that,\n",
              " are,\n",
              " spread,\n",
              " over,\n",
              " its,\n",
              " states,\n",
              " and,\n",
              " union,\n",
              " territories,\n",
              " .,\n",
              " India,\n",
              " is,\n",
              " a,\n",
              " very,\n",
              " diverse,\n",
              " country,\n",
              " as,\n",
              " well,\n",
              " ,,\n",
              " which,\n",
              " means,\n",
              " that,\n",
              " the,\n",
              " people,\n",
              " around,\n",
              " the,\n",
              " country,\n",
              " are,\n",
              " different,\n",
              " in,\n",
              " many,\n",
              " ways,\n",
              " .,\n",
              " Even,\n",
              " though,\n",
              " India,\n",
              " is,\n",
              " such,\n",
              " a,\n",
              " diverse,\n",
              " place,\n",
              " ,,\n",
              " it,\n",
              " is,\n",
              " united,\n",
              " as,\n",
              " one,\n",
              " country,\n",
              " .]"
            ]
          },
          "metadata": {},
          "execution_count": 12
        }
      ]
    },
    {
      "cell_type": "markdown",
      "source": [
        "Using Gensim to Tokenize"
      ],
      "metadata": {
        "id": "x2IW-TMRdssn"
      }
    },
    {
      "cell_type": "code",
      "source": [
        "pip install gensim"
      ],
      "metadata": {
        "colab": {
          "base_uri": "https://localhost:8080/"
        },
        "id": "hA9uRNEPp7Uw",
        "outputId": "06c5b0c2-19ed-4f98-d5c1-ff6d720e3b48"
      },
      "execution_count": 13,
      "outputs": [
        {
          "output_type": "stream",
          "name": "stdout",
          "text": [
            "Requirement already satisfied: gensim in /usr/local/lib/python3.11/dist-packages (4.3.3)\n",
            "Requirement already satisfied: numpy<2.0,>=1.18.5 in /usr/local/lib/python3.11/dist-packages (from gensim) (1.26.4)\n",
            "Requirement already satisfied: scipy<1.14.0,>=1.7.0 in /usr/local/lib/python3.11/dist-packages (from gensim) (1.13.1)\n",
            "Requirement already satisfied: smart-open>=1.8.1 in /usr/local/lib/python3.11/dist-packages (from gensim) (7.3.0.post1)\n",
            "Requirement already satisfied: wrapt in /usr/local/lib/python3.11/dist-packages (from smart-open>=1.8.1->gensim) (1.17.2)\n"
          ]
        }
      ]
    },
    {
      "cell_type": "code",
      "source": [
        "from gensim.utils import tokenize"
      ],
      "metadata": {
        "id": "O-zIkeFodpcP"
      },
      "execution_count": 14,
      "outputs": []
    },
    {
      "cell_type": "code",
      "source": [
        "list(tokenize(para))"
      ],
      "metadata": {
        "colab": {
          "base_uri": "https://localhost:8080/"
        },
        "id": "NPW2-Niqdzhd",
        "outputId": "49826c45-dba9-424a-aec5-e3b8b0a3ad24"
      },
      "execution_count": 15,
      "outputs": [
        {
          "output_type": "execute_result",
          "data": {
            "text/plain": [
              "['India',\n",
              " 'is',\n",
              " 'the',\n",
              " 'largest',\n",
              " 'democratic',\n",
              " 'country',\n",
              " 'It',\n",
              " 'is',\n",
              " 'a',\n",
              " 'big',\n",
              " 'country',\n",
              " 'divided',\n",
              " 'into',\n",
              " 'states',\n",
              " 'and',\n",
              " 'union',\n",
              " 'territories',\n",
              " 'These',\n",
              " 'states',\n",
              " 'and',\n",
              " 'union',\n",
              " 'territories',\n",
              " 'have',\n",
              " 'been',\n",
              " 'created',\n",
              " 'so',\n",
              " 'that',\n",
              " 'the',\n",
              " 'government',\n",
              " 'can',\n",
              " 'run',\n",
              " 'the',\n",
              " 'country',\n",
              " 'more',\n",
              " 'easily',\n",
              " 'India',\n",
              " 'also',\n",
              " 'has',\n",
              " 'many',\n",
              " 'different',\n",
              " 'kinds',\n",
              " 'of',\n",
              " 'physical',\n",
              " 'features',\n",
              " 'in',\n",
              " 'different',\n",
              " 'parts',\n",
              " 'of',\n",
              " 'the',\n",
              " 'country',\n",
              " 'that',\n",
              " 'are',\n",
              " 'spread',\n",
              " 'over',\n",
              " 'its',\n",
              " 'states',\n",
              " 'and',\n",
              " 'union',\n",
              " 'territories',\n",
              " 'India',\n",
              " 'is',\n",
              " 'a',\n",
              " 'very',\n",
              " 'diverse',\n",
              " 'country',\n",
              " 'as',\n",
              " 'well',\n",
              " 'which',\n",
              " 'means',\n",
              " 'that',\n",
              " 'the',\n",
              " 'people',\n",
              " 'around',\n",
              " 'the',\n",
              " 'country',\n",
              " 'are',\n",
              " 'different',\n",
              " 'in',\n",
              " 'many',\n",
              " 'ways',\n",
              " 'Even',\n",
              " 'though',\n",
              " 'India',\n",
              " 'is',\n",
              " 'such',\n",
              " 'a',\n",
              " 'diverse',\n",
              " 'place',\n",
              " 'it',\n",
              " 'is',\n",
              " 'united',\n",
              " 'as',\n",
              " 'one',\n",
              " 'country']"
            ]
          },
          "metadata": {},
          "execution_count": 15
        }
      ]
    },
    {
      "cell_type": "markdown",
      "source": [
        "Change case"
      ],
      "metadata": {
        "id": "fs8ME-7vd3-0"
      }
    },
    {
      "cell_type": "code",
      "source": [
        "#Convert all words to lower case\n",
        "\n",
        "para_lower= para.lower()\n",
        "print(para_lower)"
      ],
      "metadata": {
        "colab": {
          "base_uri": "https://localhost:8080/"
        },
        "id": "94gWoUBkd4wg",
        "outputId": "c4604e54-1091-4364-e829-fbc416e04d0b"
      },
      "execution_count": 16,
      "outputs": [
        {
          "output_type": "stream",
          "name": "stdout",
          "text": [
            "india is the largest democratic country.\n",
            "it is a big country divided into 29 states and 7 union territories.these states and union territories have been created so that the government can run the country more easily. india also has many different kinds of physical features in different parts of the country\n",
            "that are spread over its states and union territories.india is a very diverse country as well, which means that the people around the country are different in many ways. even though india is such a diverse place, it is united as one country.\n"
          ]
        }
      ]
    },
    {
      "cell_type": "code",
      "source": [
        "#Convert all words to upper case\n",
        "\n",
        "para_upper= para.upper()\n",
        "print(para_upper)"
      ],
      "metadata": {
        "colab": {
          "base_uri": "https://localhost:8080/"
        },
        "id": "YKbkIC2jd8sj",
        "outputId": "6079f944-2891-4f61-ac7b-06f4e40a5e68"
      },
      "execution_count": 17,
      "outputs": [
        {
          "output_type": "stream",
          "name": "stdout",
          "text": [
            "INDIA IS THE LARGEST DEMOCRATIC COUNTRY.\n",
            "IT IS A BIG COUNTRY DIVIDED INTO 29 STATES AND 7 UNION TERRITORIES.THESE STATES AND UNION TERRITORIES HAVE BEEN CREATED SO THAT THE GOVERNMENT CAN RUN THE COUNTRY MORE EASILY. INDIA ALSO HAS MANY DIFFERENT KINDS OF PHYSICAL FEATURES IN DIFFERENT PARTS OF THE COUNTRY\n",
            "THAT ARE SPREAD OVER ITS STATES AND UNION TERRITORIES.INDIA IS A VERY DIVERSE COUNTRY AS WELL, WHICH MEANS THAT THE PEOPLE AROUND THE COUNTRY ARE DIFFERENT IN MANY WAYS. EVEN THOUGH INDIA IS SUCH A DIVERSE PLACE, IT IS UNITED AS ONE COUNTRY.\n"
          ]
        }
      ]
    },
    {
      "cell_type": "markdown",
      "source": [
        "Stop word removal"
      ],
      "metadata": {
        "id": "8FkzZAOdeKOh"
      }
    },
    {
      "cell_type": "code",
      "source": [
        "nltk.download(\"stopwords\")"
      ],
      "metadata": {
        "colab": {
          "base_uri": "https://localhost:8080/"
        },
        "id": "zvUwU6VLeNAt",
        "outputId": "c7aec485-a55b-4104-803e-2aa28d089cfe"
      },
      "execution_count": 18,
      "outputs": [
        {
          "output_type": "stream",
          "name": "stderr",
          "text": [
            "[nltk_data] Downloading package stopwords to /root/nltk_data...\n",
            "[nltk_data]   Unzipping corpora/stopwords.zip.\n"
          ]
        },
        {
          "output_type": "execute_result",
          "data": {
            "text/plain": [
              "True"
            ]
          },
          "metadata": {},
          "execution_count": 18
        }
      ]
    },
    {
      "cell_type": "code",
      "source": [
        "from nltk.corpus import stopwords"
      ],
      "metadata": {
        "id": "Q_GngHABeO7H"
      },
      "execution_count": 19,
      "outputs": []
    },
    {
      "cell_type": "code",
      "source": [
        "stopWords = set(stopwords.words('english'))\n",
        "print(stopWords)"
      ],
      "metadata": {
        "colab": {
          "base_uri": "https://localhost:8080/"
        },
        "id": "o3qzB4IHeQrS",
        "outputId": "9ed827b8-7310-441b-e47c-53504eea3e1a"
      },
      "execution_count": 20,
      "outputs": [
        {
          "output_type": "stream",
          "name": "stdout",
          "text": [
            "{'some', 'below', 'having', 'most', 'no', 'them', \"you'll\", 'aren', \"hasn't\", 'my', 'then', \"i'll\", \"mustn't\", 'ourselves', 'too', \"they'll\", 'their', 'his', 'y', 'haven', 'myself', 'that', 'ours', 'didn', 'the', 'now', 'yourselves', 'i', 'herself', 'yourself', 'hasn', 'here', \"it's\", 'who', 'further', 'had', 'so', 'or', 'they', \"we've\", 'we', 'doesn', 'himself', 'themselves', 'in', 'were', 'few', 'he', 'a', 'where', 'yours', 'while', 'has', \"he's\", 'until', 'can', \"you'd\", 'does', 'itself', 'more', \"she'd\", \"she's\", 'couldn', 'your', 'whom', 'wouldn', 'which', \"they're\", \"that'll\", \"aren't\", \"needn't\", \"won't\", 'wasn', 'than', 'and', 'it', 'she', 'been', 'there', 'why', 've', 'for', \"isn't\", 'out', \"she'll\", \"it'd\", 'you', 'about', \"don't\", 'how', 'd', 'before', 'have', 'o', \"you're\", \"shouldn't\", 'me', 'will', 'needn', 'mightn', 'both', 'into', 'an', 'through', \"weren't\", 'down', 'nor', 'other', 'up', 'to', 'shouldn', 'did', 'after', 'these', 'weren', 'if', 'same', 're', 'under', 'what', 'as', 'from', 'not', 'off', 'doing', \"they've\", 'just', 'this', \"we're\", 'am', 'ma', 'ain', 'are', \"he'd\", 'him', 'hers', 'any', 'shan', 'at', 'only', 'over', 'each', 'was', 'won', 'm', 'our', \"it'll\", 'against', 'all', 'very', \"they'd\", 'on', 's', 'its', \"wasn't\", 'but', 'do', 'during', 'by', \"i'm\", 't', 'don', \"mightn't\", 'with', 'of', 'mustn', 'again', 'her', 'when', \"wouldn't\", \"couldn't\", 'isn', 'because', \"he'll\", 'own', 'should', \"we'll\", \"didn't\", 'll', \"i've\", 'those', 'between', 'hadn', \"hadn't\", 'once', \"we'd\", 'above', \"you've\", \"i'd\", 'is', 'be', \"should've\", \"shan't\", 'theirs', \"doesn't\", 'being', \"haven't\", 'such'}\n"
          ]
        }
      ]
    },
    {
      "cell_type": "code",
      "source": [
        "word_filtered=[]\n",
        "para_lower_tokenize=word_tokenize(para_lower)\n",
        "\n",
        "for word in para_lower_tokenize:\n",
        "    if word not in stopWords:\n",
        "        word_filtered.append(word)\n",
        "print(word_filtered)"
      ],
      "metadata": {
        "colab": {
          "base_uri": "https://localhost:8080/"
        },
        "id": "W_QnTVdYeSVT",
        "outputId": "19762481-95d3-49ed-d1bd-3cb47a66334f"
      },
      "execution_count": 21,
      "outputs": [
        {
          "output_type": "stream",
          "name": "stdout",
          "text": [
            "['india', 'largest', 'democratic', 'country', '.', 'big', 'country', 'divided', '29', 'states', '7', 'union', 'territories.these', 'states', 'union', 'territories', 'created', 'government', 'run', 'country', 'easily', '.', 'india', 'also', 'many', 'different', 'kinds', 'physical', 'features', 'different', 'parts', 'country', 'spread', 'states', 'union', 'territories.india', 'diverse', 'country', 'well', ',', 'means', 'people', 'around', 'country', 'different', 'many', 'ways', '.', 'even', 'though', 'india', 'diverse', 'place', ',', 'united', 'one', 'country', '.']\n"
          ]
        }
      ]
    },
    {
      "cell_type": "code",
      "source": [
        "print(\"length before and after stop word removal is: {} and {} respectively\".format(len(para_lower_tokenize), len(word_filtered)))"
      ],
      "metadata": {
        "colab": {
          "base_uri": "https://localhost:8080/"
        },
        "id": "WuffeQZ1eVzt",
        "outputId": "b0fed7a3-ea5d-4460-f1bf-4e235efec6ee"
      },
      "execution_count": 22,
      "outputs": [
        {
          "output_type": "stream",
          "name": "stdout",
          "text": [
            "length before and after stop word removal is: 100 and 58 respectively\n"
          ]
        }
      ]
    },
    {
      "cell_type": "markdown",
      "source": [
        "Stemming : Text processing task in which you reduce words to their root"
      ],
      "metadata": {
        "id": "Ai_1gyuMeX-F"
      }
    },
    {
      "cell_type": "code",
      "source": [
        "from nltk.stem import PorterStemmer"
      ],
      "metadata": {
        "id": "fYq3dGiQeczD"
      },
      "execution_count": 23,
      "outputs": []
    },
    {
      "cell_type": "code",
      "source": [
        "words= [\"wait\", \"waiting\", \"waited\", \"waits\", \"listening\", \"history\", \"abitlity\", \"arrival\", \"finally\", \"congratulations\", \\\n",
        "       \"exaggeration\", \"understandable\", \"probability\", \"player\",\"toys\", \"consumer\", \"fairly\"]\n",
        "porter =PorterStemmer()\n",
        "for word in words:\n",
        "    rootWord=porter.stem(word)\n",
        "    print(word,\" : \",rootWord)"
      ],
      "metadata": {
        "colab": {
          "base_uri": "https://localhost:8080/"
        },
        "id": "52Th5_oBeeO9",
        "outputId": "47100c46-010b-4c02-85c3-f643ef639d6b"
      },
      "execution_count": 24,
      "outputs": [
        {
          "output_type": "stream",
          "name": "stdout",
          "text": [
            "wait  :  wait\n",
            "waiting  :  wait\n",
            "waited  :  wait\n",
            "waits  :  wait\n",
            "listening  :  listen\n",
            "history  :  histori\n",
            "abitlity  :  abitl\n",
            "arrival  :  arriv\n",
            "finally  :  final\n",
            "congratulations  :  congratul\n",
            "exaggeration  :  exagger\n",
            "understandable  :  understand\n",
            "probability  :  probabl\n",
            "player  :  player\n",
            "toys  :  toy\n",
            "consumer  :  consum\n",
            "fairly  :  fairli\n"
          ]
        }
      ]
    },
    {
      "cell_type": "code",
      "source": [
        "from nltk.stem import LancasterStemmer"
      ],
      "metadata": {
        "id": "83Z3T-TQegFh"
      },
      "execution_count": 25,
      "outputs": []
    },
    {
      "cell_type": "code",
      "source": [
        "lancaster =LancasterStemmer()\n",
        "for word in words:\n",
        "    rootWord=lancaster.stem(word)\n",
        "    print(word,\" : \",rootWord)"
      ],
      "metadata": {
        "colab": {
          "base_uri": "https://localhost:8080/"
        },
        "id": "eVI3_mifehn4",
        "outputId": "a3d55fcd-9c2b-431a-e1f6-f11348d4756d"
      },
      "execution_count": 26,
      "outputs": [
        {
          "output_type": "stream",
          "name": "stdout",
          "text": [
            "wait  :  wait\n",
            "waiting  :  wait\n",
            "waited  :  wait\n",
            "waits  :  wait\n",
            "listening  :  list\n",
            "history  :  hist\n",
            "abitlity  :  abitl\n",
            "arrival  :  ar\n",
            "finally  :  fin\n",
            "congratulations  :  congrat\n",
            "exaggeration  :  exag\n",
            "understandable  :  understand\n",
            "probability  :  prob\n",
            "player  :  play\n",
            "toys  :  toy\n",
            "consumer  :  consum\n",
            "fairly  :  fair\n"
          ]
        }
      ]
    },
    {
      "cell_type": "code",
      "source": [
        "from nltk.stem import RegexpStemmer"
      ],
      "metadata": {
        "id": "B8qvcbrFekN4"
      },
      "execution_count": 27,
      "outputs": []
    },
    {
      "cell_type": "code",
      "source": [
        "regex =RegexpStemmer(\"ing$|es$|s$|er$|able$\")\n",
        "\n",
        "for word in words:\n",
        "    rootWord=regex.stem(word)\n",
        "    print(word,\" : \",rootWord)"
      ],
      "metadata": {
        "colab": {
          "base_uri": "https://localhost:8080/"
        },
        "id": "lxAllySael8Z",
        "outputId": "ffb8f95c-a2f4-455c-9150-d6f77f278264"
      },
      "execution_count": 28,
      "outputs": [
        {
          "output_type": "stream",
          "name": "stdout",
          "text": [
            "wait  :  wait\n",
            "waiting  :  wait\n",
            "waited  :  waited\n",
            "waits  :  wait\n",
            "listening  :  listen\n",
            "history  :  history\n",
            "abitlity  :  abitlity\n",
            "arrival  :  arrival\n",
            "finally  :  finally\n",
            "congratulations  :  congratulation\n",
            "exaggeration  :  exaggeration\n",
            "understandable  :  understand\n",
            "probability  :  probability\n",
            "player  :  play\n",
            "toys  :  toy\n",
            "consumer  :  consum\n",
            "fairly  :  fairly\n"
          ]
        }
      ]
    },
    {
      "cell_type": "code",
      "source": [
        "from nltk.stem import SnowballStemmer"
      ],
      "metadata": {
        "id": "Tv4P6eheeoB5"
      },
      "execution_count": 29,
      "outputs": []
    },
    {
      "cell_type": "code",
      "source": [
        "snow =SnowballStemmer(language=\"english\")\n",
        "\n",
        "for word in words:\n",
        "    rootWord=snow.stem(word)\n",
        "    print(word,\" : \",rootWord)"
      ],
      "metadata": {
        "colab": {
          "base_uri": "https://localhost:8080/"
        },
        "id": "k6f77WOJeqGy",
        "outputId": "f1894390-5a7c-411c-8c5a-83f05b647fb5"
      },
      "execution_count": 30,
      "outputs": [
        {
          "output_type": "stream",
          "name": "stdout",
          "text": [
            "wait  :  wait\n",
            "waiting  :  wait\n",
            "waited  :  wait\n",
            "waits  :  wait\n",
            "listening  :  listen\n",
            "history  :  histori\n",
            "abitlity  :  abitl\n",
            "arrival  :  arriv\n",
            "finally  :  final\n",
            "congratulations  :  congratul\n",
            "exaggeration  :  exagger\n",
            "understandable  :  understand\n",
            "probability  :  probabl\n",
            "player  :  player\n",
            "toys  :  toy\n",
            "consumer  :  consum\n",
            "fairly  :  fair\n"
          ]
        }
      ]
    },
    {
      "cell_type": "markdown",
      "source": [
        "Lemmatization"
      ],
      "metadata": {
        "id": "JbOrj9DaesX-"
      }
    },
    {
      "cell_type": "markdown",
      "source": [
        "Ref: https://www.machinelearningplus.com/nlp/lemmatization-examples-python/\n",
        "\n",
        "https://www.nltk.org/_modules/nltk/stem/wordnet.html\n",
        "\n",
        "https://medium.com/@yashj302/lemmatization-f134b3089429\n",
        "\n",
        "https://www.geeksforgeeks.org/python-lemmatization-approaches-with-examples/"
      ],
      "metadata": {
        "id": "fUpEND0UestB"
      }
    },
    {
      "cell_type": "code",
      "source": [
        "# # Download Wordnet through NLTK in python console:\n",
        "import nltk\n",
        "nltk.download('wordnet')\n",
        "from nltk.stem import WordNetLemmatizer\n",
        "from nltk import sent_tokenize, word_tokenize\n",
        "from nltk.corpus import wordnet\n",
        "nltk.download('averaged_perceptron_tagger')"
      ],
      "metadata": {
        "colab": {
          "base_uri": "https://localhost:8080/"
        },
        "id": "cyZPo4QYex0U",
        "outputId": "b6f6e522-f6b9-41b0-b687-5c00deb2b77d"
      },
      "execution_count": 31,
      "outputs": [
        {
          "output_type": "stream",
          "name": "stderr",
          "text": [
            "[nltk_data] Downloading package wordnet to /root/nltk_data...\n",
            "[nltk_data] Downloading package averaged_perceptron_tagger to\n",
            "[nltk_data]     /root/nltk_data...\n",
            "[nltk_data]   Unzipping taggers/averaged_perceptron_tagger.zip.\n"
          ]
        },
        {
          "output_type": "execute_result",
          "data": {
            "text/plain": [
              "True"
            ]
          },
          "metadata": {},
          "execution_count": 31
        }
      ]
    },
    {
      "cell_type": "code",
      "source": [
        "#Using nltk WordNet Lemmatizer\n",
        "\n",
        "lemmatizer= WordNetLemmatizer()\n",
        "words= [\"wait\", \"waiting\", \"waited\", \"waits\", \"listening\", \"history\", \"abitlity\", \"arrival\", \"finally\", \"congratulations\", \\\n",
        "       \"exaggeration\", \"understandable\", \"probability\", \"player\",\"toys\", \"consumer\", \"fairly\"]\n",
        "for word in words:\n",
        "    print(\"{}: {}\".format(word, lemmatizer.lemmatize(word)))"
      ],
      "metadata": {
        "colab": {
          "base_uri": "https://localhost:8080/"
        },
        "id": "B15cOFq1e0Ay",
        "outputId": "2309e47e-4263-489b-88e4-3e6c16eceb7f"
      },
      "execution_count": 32,
      "outputs": [
        {
          "output_type": "stream",
          "name": "stdout",
          "text": [
            "wait: wait\n",
            "waiting: waiting\n",
            "waited: waited\n",
            "waits: wait\n",
            "listening: listening\n",
            "history: history\n",
            "abitlity: abitlity\n",
            "arrival: arrival\n",
            "finally: finally\n",
            "congratulations: congratulation\n",
            "exaggeration: exaggeration\n",
            "understandable: understandable\n",
            "probability: probability\n",
            "player: player\n",
            "toys: toy\n",
            "consumer: consumer\n",
            "fairly: fairly\n"
          ]
        }
      ]
    },
    {
      "cell_type": "code",
      "source": [
        "sentence=\"The students are waiting outside the class room\"\n",
        "#Tokenizing the sentence\n",
        "word_tokens= word_tokenize(sentence)\n",
        "print(word_tokens)"
      ],
      "metadata": {
        "colab": {
          "base_uri": "https://localhost:8080/"
        },
        "id": "EdVMuBx2e2Kw",
        "outputId": "a97126b2-23ba-4996-f02e-7dfcd20fc14b"
      },
      "execution_count": 33,
      "outputs": [
        {
          "output_type": "stream",
          "name": "stdout",
          "text": [
            "['The', 'students', 'are', 'waiting', 'outside', 'the', 'class', 'room']\n"
          ]
        }
      ]
    },
    {
      "cell_type": "code",
      "source": [
        "#Lemmatizing the tokens\n",
        "lemmatized=[]\n",
        "for token in word_tokens:\n",
        "    lemmatized.append(lemmatizer.lemmatize(token))\n",
        "print(lemmatized)"
      ],
      "metadata": {
        "colab": {
          "base_uri": "https://localhost:8080/"
        },
        "id": "21s1ol74e4X5",
        "outputId": "f758850e-5962-4eb0-b49c-8db8cb2dd0d7"
      },
      "execution_count": 34,
      "outputs": [
        {
          "output_type": "stream",
          "name": "stdout",
          "text": [
            "['The', 'student', 'are', 'waiting', 'outside', 'the', 'class', 'room']\n"
          ]
        }
      ]
    },
    {
      "cell_type": "code",
      "source": [
        "#Joining the lemmatized words\n",
        "lemmatized_sent= \" \".join(lemmatized)\n",
        "print(lemmatized_sent)"
      ],
      "metadata": {
        "colab": {
          "base_uri": "https://localhost:8080/"
        },
        "id": "Szv7iaQJe7uk",
        "outputId": "ef824e06-501d-4bba-dc14-ae3861922c99"
      },
      "execution_count": 35,
      "outputs": [
        {
          "output_type": "stream",
          "name": "stdout",
          "text": [
            "The student are waiting outside the class room\n"
          ]
        }
      ]
    },
    {
      "cell_type": "code",
      "source": [
        "#using POS tag\n",
        "print(lemmatizer.lemmatize(\"waiting\", 'v'))\n",
        "print(lemmatizer.lemmatize(\"are\", 'v'))"
      ],
      "metadata": {
        "colab": {
          "base_uri": "https://localhost:8080/"
        },
        "id": "jIP1R6kse9ru",
        "outputId": "7a0760e5-2c4f-4644-9df8-b7598546f5d3"
      },
      "execution_count": 36,
      "outputs": [
        {
          "output_type": "stream",
          "name": "stdout",
          "text": [
            "wait\n",
            "be\n"
          ]
        }
      ]
    },
    {
      "cell_type": "markdown",
      "source": [
        "Refer to this website for POS tag\n",
        "\n",
        "https://cs.nyu.edu/~grishman/jet/guide/PennPOS.html"
      ],
      "metadata": {
        "id": "g_IRNfJGfFbB"
      }
    }
  ]
}